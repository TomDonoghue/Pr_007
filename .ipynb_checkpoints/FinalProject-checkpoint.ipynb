{
 "cells": [
  {
   "cell_type": "markdown",
   "metadata": {},
   "source": [
    "# Final Project"
   ]
  },
  {
   "cell_type": "code",
   "execution_count": 2,
   "metadata": {
    "collapsed": true
   },
   "outputs": [],
   "source": [
    "%matplotlib inline\n",
    "\n",
    "import pandas as pd\n",
    "import numpy as np\n",
    "import matplotlib.pyplot as plt"
   ]
  },
  {
   "cell_type": "code",
   "execution_count": 26,
   "metadata": {
    "collapsed": false
   },
   "outputs": [],
   "source": [
    "#Importing the original file\n",
    "\n",
    "fname = \"business.csv\"\n",
    "business_df = pd.read_csv(fname)"
   ]
  },
  {
   "cell_type": "code",
   "execution_count": 27,
   "metadata": {
    "collapsed": false
   },
   "outputs": [],
   "source": [
    "#Removing unneccesary columns and renaming to layman terms, getting all food/drinks related commercial places\n",
    "\n",
    "business_df = business_df[['doing_bus_as_name','zip','naics_description','lat','lon']]\n",
    "business_df = business_df.loc[(business_df['naics_description'] == 'full-service restaurants') |\n",
    "               (business_df['naics_description'] == 'cafeterias') | \n",
    "               (business_df['naics_description'] == 'food services & drinking places') |\n",
    "               (business_df['naics_description'] == 'limited-service eating places') |\n",
    "               (business_df['naics_description'] == 'limited-service restaurants')  |\n",
    "               (business_df['naics_description'] == 'mobile food services') |\n",
    "               (business_df['naics_description'] == 'drinking places (alcoholic beverages)') |\n",
    "               (business_df['naics_description'] == 'snack & nonalcoholic beverage bars')]\n",
    "business_df.rename(columns = {'doing_bus_as_name':'Business title','naics_description':'Type of Place'}, inplace=True)"
   ]
  },
  {
   "cell_type": "code",
   "execution_count": 28,
   "metadata": {
    "collapsed": false,
    "scrolled": false
   },
   "outputs": [],
   "source": [
    "#Adding the 5 columns for the different time brackets\n",
    "\n",
    "business_df.insert(2,'AM early','Null')\n",
    "business_df.insert(3,'AM peak','Null')\n",
    "business_df.insert(4,'Mid-day','Null')\n",
    "business_df.insert(5,'PM peak','Null')\n",
    "business_df.insert(6,'PM late','Null')"
   ]
  },
  {
   "cell_type": "code",
   "execution_count": 29,
   "metadata": {
    "collapsed": false
   },
   "outputs": [],
   "source": [
    "#generalising the different categories into 3 categories: Only Food, Food & Drinks, Only Drinks\n",
    "business_df.loc[(business_df['Type of Place'] == 'mobile food services') |\n",
    "                (business_df['Type of Place'] == 'cafeterias') |\n",
    "                (business_df['Type of Place'] == 'snack & nonalcoholic beverage bars') |\n",
    "                (business_df['Type of Place'] == 'limited-service eating places') |\n",
    "                (business_df['Type of Place'] == 'limited-service restaurants') \n",
    "                , 'Type of Place'] = 'Only Food'\n",
    "\n",
    "business_df.loc[(business_df['Type of Place'] == 'full-service restaurants') \n",
    "                , 'Type of Place'] = 'Food & Drinks'\n",
    "\n",
    "business_df.loc[(business_df['Type of Place'] == 'drinking places (alcoholic beverages)') |\n",
    "                (business_df['Type of Place'] == 'food services & drinking places') \n",
    "                , 'Type of Place'] = 'Only Drinks'\n"
   ]
  },
  {
   "cell_type": "code",
   "execution_count": 30,
   "metadata": {
    "collapsed": false
   },
   "outputs": [],
   "source": [
    "#Assigning values to different time brackets by assuming popularity of the place in that time zone\n",
    "\n",
    "business_df.loc[(business_df['Type of Place'] == 'Only Food'), \n",
    "                ('AM early','AM peak','Mid-day','PM peak','PM late')] = ('0.1','1','0.8','0.7','0.2')\n",
    "business_df.loc[(business_df['Type of Place'] == 'Food & Drinks'),\n",
    "                ('AM early','AM peak','Mid-day','PM peak','PM late')] = ('0.2','0.8','0.7','1','0.7')\n",
    "business_df.loc[(business_df['Type of Place'] == 'Only Drinks'),\n",
    "                ('AM early','AM peak','Mid-day','PM peak','PM late')] = ('0.9','0.2','0.1','0.9','1') "
   ]
  },
  {
   "cell_type": "code",
   "execution_count": 31,
   "metadata": {
    "collapsed": false
   },
   "outputs": [],
   "source": [
    "#business_df.insert(2,'Total Score','Null')\n",
    "business_df.loc[(business_df['Type of Place'] == 'Only Food'), \n",
    "                'Total Score'] = '0.560'\n",
    "business_df.loc[(business_df['Type of Place'] == 'Food & Drinks'),\n",
    "                'Total Score'] = '0.680'\n",
    "business_df.loc[(business_df['Type of Place'] == 'Only Drinks'),\n",
    "                'Total Score'] = '0.620'"
   ]
  },
  {
   "cell_type": "code",
   "execution_count": null,
   "metadata": {
    "collapsed": true
   },
   "outputs": [],
   "source": []
  }
 ],
 "metadata": {
  "kernelspec": {
   "display_name": "Python 3",
   "language": "python",
   "name": "python3"
  },
  "language_info": {
   "codemirror_mode": {
    "name": "ipython",
    "version": 3
   },
   "file_extension": ".py",
   "mimetype": "text/x-python",
   "name": "python",
   "nbconvert_exporter": "python",
   "pygments_lexer": "ipython3",
   "version": "3.6.0"
  }
 },
 "nbformat": 4,
 "nbformat_minor": 2
}
